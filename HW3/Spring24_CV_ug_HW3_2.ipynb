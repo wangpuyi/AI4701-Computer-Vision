{
 "cells": [
  {
   "cell_type": "markdown",
   "metadata": {},
   "source": [
    "# HW3-2: MNIST 手写数字识别 （80分）\n",
    "\n",
    "- 本次作业的主题是使用深度学习技术对`MNIST`手写数字数据集进行分类。\n",
    "- 要求使用两种不同的深度学习模型，分别是多层感知机--`MLP`和卷积神经网络--`CNN`。\n",
    "- 本次作业的目的是让同学们了解深度学习模型的构建和训练过程，以及对经典视觉任务处理效果的对比。\n",
    "\n",
    "## 评分标准（更细致的评分标准见对应部分）\n",
    "\n",
    "- 数据读取和预处理：5分\n",
    "- 基于`MLP`的手写数字分类：30分 \n",
    "- 基于`CNN`的手写数字分类：30分\n",
    "- 结果讨论与对比分析：15分"
   ]
  },
  {
   "cell_type": "markdown",
   "metadata": {},
   "source": [
    "\n",
    "---\n",
    "\n",
    "## 第一部分：数据读取和预处理\n",
    "\n",
    "你可以在Canvas上下载如下两个文件：\n",
    "- 训练数据：`mnist_train.csv`\n",
    "- 测试数据：`mnist_test.csv`\n",
    "\n",
    "这两个文件包含了Mnist数据集的训练集和测试集。每一行的第一个数字表示标签，后面的784数字是28x28的图片像素值。\n",
    "- 请你正确读取并分别展示训练集和测试集的第一个样本（图像+label）。\n",
    "\n",
    "### 评分细则\n",
    "- 数据读取：2分\n",
    "- 数据展示：3分"
   ]
  },
  {
   "cell_type": "code",
   "execution_count": 2,
   "metadata": {},
   "outputs": [
    {
     "data": {
      "image/png": "[encoded data removed]",
      "text/plain": [
       "<Figure size 600x300 with 2 Axes>"
      ]
     },
     "metadata": {},
     "output_type": "display_data"
    }
   ],
   "source": [
    "# Code Here\n",
    "import pandas as pd\n",
    "import numpy as np\n",
    "import matplotlib.pyplot as plt\n",
    "import csv\n",
    "\n",
    "# Load the data\n",
    "with open('mnist_train.csv','r') as f:\n",
    "    train_data = list(csv.reader(f))\n",
    "\n",
    "with open('mnist_test.csv','r') as f:\n",
    "    test_data = list(csv.reader(f))\n",
    "\n",
    "\n",
    "train_label = train_data[0][0]\n",
    "train_image = np.array(train_data[0][1:]).reshape(28,28).astype(float)\n",
    "test_label = test_data[0][0]\n",
    "test_image = np.array(test_data[0][1:]).reshape(28,28).astype(float)\n",
    "\n",
    "plt.figure(figsize=(6,3))\n",
    "plt.subplot(1,2,1)\n",
    "plt.imshow(train_image, cmap='gray')\n",
    "plt.title('Label: ' + train_label)\n",
    "plt.subplot(1,2,2)\n",
    "plt.imshow(test_image, cmap='gray')\n",
    "plt.title('Label: ' + test_label)\n",
    "plt.show()"
   ]
  },
  {
   "cell_type": "markdown",
   "metadata": {},
   "source": [
    "---\n",
    "## 第二部分：基于`MLP`的手写数字分类\n",
    "\n",
    "- 请你构建一个多层感知机模型，在Mnist数据集上进行训练和测试。\n",
    "- 可以使用`Pytorch`或者`Tensorflow`等深度学习框架。\n",
    "- 请你展示模型的训练过程（Loss曲线）和测试结果（分类精度）。\n",
    "\n",
    "### 评分细则\n",
    "- 模型构建：10分\n",
    "- 模型训练：10分 - 要求Loss曲线收敛\n",
    "- 模型测试：10分 - 要求分类精度达到90%以上"
   ]
  },
  {
   "cell_type": "code",
   "execution_count": 3,
   "metadata": {},
   "outputs": [
    {
     "name": "stderr",
     "output_type": "stream",
     "text": [
      "d:\\ProgramData\\Anaconda3\\envs\\py39\\lib\\site-packages\\tqdm\\auto.py:21: TqdmWarning: IProgress not found. Please update jupyter and ipywidgets. See https://ipywidgets.readthedocs.io/en/stable/user_install.html\n",
      "  from .autonotebook import tqdm as notebook_tqdm\n",
      "1875it [00:07, 267.46it/s]\n"
     ]
    },
    {
     "name": "stdout",
     "output_type": "stream",
     "text": [
      "Epoch 1, Loss: 0.00961988487932831\n"
     ]
    },
    {
     "name": "stderr",
     "output_type": "stream",
     "text": [
      "1875it [00:05, 315.27it/s]\n"
     ]
    },
    {
     "name": "stdout",
     "output_type": "stream",
     "text": [
      "Epoch 2, Loss: 0.004241072394671695\n"
     ]
    },
    {
     "name": "stderr",
     "output_type": "stream",
     "text": [
      "1875it [00:05, 317.13it/s]\n"
     ]
    },
    {
     "name": "stdout",
     "output_type": "stream",
     "text": [
      "Epoch 3, Loss: 0.003154265162185766\n"
     ]
    },
    {
     "name": "stderr",
     "output_type": "stream",
     "text": [
      "1875it [00:05, 318.21it/s]\n"
     ]
    },
    {
     "name": "stdout",
     "output_type": "stream",
     "text": [
      "Epoch 4, Loss: 0.0026925112660974265\n"
     ]
    },
    {
     "name": "stderr",
     "output_type": "stream",
     "text": [
      "1875it [00:06, 307.31it/s]\n"
     ]
    },
    {
     "name": "stdout",
     "output_type": "stream",
     "text": [
      "Epoch 5, Loss: 0.002251749200890966\n"
     ]
    },
    {
     "name": "stderr",
     "output_type": "stream",
     "text": [
      "1875it [00:06, 296.65it/s]\n"
     ]
    },
    {
     "name": "stdout",
     "output_type": "stream",
     "text": [
      "Epoch 6, Loss: 0.00203506581329954\n"
     ]
    },
    {
     "name": "stderr",
     "output_type": "stream",
     "text": [
      "1875it [00:06, 305.80it/s]\n"
     ]
    },
    {
     "name": "stdout",
     "output_type": "stream",
     "text": [
      "Epoch 7, Loss: 0.0018196026765025938\n"
     ]
    },
    {
     "name": "stderr",
     "output_type": "stream",
     "text": [
      "1875it [00:06, 305.11it/s]\n"
     ]
    },
    {
     "name": "stdout",
     "output_type": "stream",
     "text": [
      "Epoch 8, Loss: 0.0016780347632236953\n"
     ]
    },
    {
     "name": "stderr",
     "output_type": "stream",
     "text": [
      "1875it [00:06, 299.02it/s]\n"
     ]
    },
    {
     "name": "stdout",
     "output_type": "stream",
     "text": [
      "Epoch 9, Loss: 0.0015595505549715503\n"
     ]
    },
    {
     "name": "stderr",
     "output_type": "stream",
     "text": [
      "1875it [00:06, 296.28it/s]\n"
     ]
    },
    {
     "name": "stdout",
     "output_type": "stream",
     "text": [
      "Epoch 10, Loss: 0.0014613135488893022\n",
      "Training time mlp: 62.10303497314453\n"
     ]
    },
    {
     "name": "stderr",
     "output_type": "stream",
     "text": [
      "313it [00:00, 505.54it/s]"
     ]
    },
    {
     "name": "stdout",
     "output_type": "stream",
     "text": [
      "MLP Test accuracy: 98.16%\n"
     ]
    },
    {
     "name": "stderr",
     "output_type": "stream",
     "text": [
      "\n"
     ]
    }
   ],
   "source": [
    "# Code here\n",
    "from data import LoadData\n",
    "from MLP import MLP\n",
    "import torch.nn as nn\n",
    "import torch\n",
    "from tqdm import tqdm\n",
    "from torch.utils.data import DataLoader\n",
    "import matplotlib.pyplot as plt\n",
    "from time import time\n",
    "\n",
    "train_data = LoadData(train=True)\n",
    "test_data = LoadData(train=False)\n",
    "\n",
    "train_loader = DataLoader(train_data, batch_size=32, shuffle=True)\n",
    "test_loader = DataLoader(test_data, batch_size=32, shuffle=False)\n",
    "\n",
    "model = MLP()\n",
    "\n",
    "n_epochs = 10\n",
    "criterion = nn.CrossEntropyLoss()\n",
    "optimizer = torch.optim.Adam(model.parameters(), lr=1e-3, weight_decay=1e-5)\n",
    "\n",
    "best_loss = 1e5\n",
    "losses = []\n",
    "\n",
    "start_time = time()\n",
    "for epoch in range(n_epochs):\n",
    "    model.train()\n",
    "    train_loss = 0.0\n",
    "    for i, (images, labels) in tqdm(enumerate(train_loader)):\n",
    "        optimizer.zero_grad()  # Assuming 'optimizer' is defined\n",
    "        predictions = model(images)\n",
    "        loss = criterion(predictions, labels)  # Assuming 'loss_function' is defined\n",
    "        loss.backward()\n",
    "        optimizer.step()\n",
    "        train_loss += loss.item()\n",
    "\n",
    "    average_train_loss = train_loss / len(train_data)\n",
    "    losses.append(average_train_loss)\n",
    "    print(f\"Epoch {epoch+1}, Loss: {average_train_loss}\")\n",
    "\n",
    "    if train_loss < best_loss:\n",
    "        best_loss = train_loss\n",
    "        torch.save(model.state_dict(), 'best_model_mlp.pth')\n",
    "end_time = time()\n",
    "print(f\"Training time mlp: {end_time - start_time}\")\n",
    "\n",
    "model.load_state_dict(torch.load('best_model_mlp.pth'))\n",
    "model.eval()\n",
    "test_failures = 0\n",
    "for i, (images, labels) in tqdm(enumerate(test_loader)):\n",
    "    predictions = model(images)\n",
    "    test_failures += sum(predictions.argmax(1) != labels).item()\n",
    "\n",
    "test_accuracy = 1 - test_failures / len(test_data)\n",
    "print(f\"MLP Test accuracy: {100*test_accuracy:.2f}%\") \n",
    "# epoch     accuracy\n",
    "# 10         98.16%"
   ]
  },
  {
   "cell_type": "code",
   "execution_count": 4,
   "metadata": {},
   "outputs": [
    {
     "data": {
      "image/png": "[encoded data removed]",
      "text/plain": [
       "<Figure size 640x480 with 1 Axes>"
      ]
     },
     "metadata": {},
     "output_type": "display_data"
    }
   ],
   "source": [
    "plt.plot(range(1, n_epochs + 1), losses)\n",
    "plt.title('MLP Loss Per Epoch')\n",
    "plt.xlabel('Epoch')\n",
    "plt.ylabel('Loss')\n",
    "plt.show()"
   ]
  },
  {
   "cell_type": "markdown",
   "metadata": {},
   "source": [
    "---\n",
    "## 第三部分：基于`CNN`的手写数字分类\n",
    "\n",
    "- 请你构建一个卷积神经网络模型，在Mnist数据集上进行训练和测试。\n",
    "- 可以使用`Pytorch`或者`Tensorflow`等深度学习框架。\n",
    "- 请你展示模型的训练过程（Loss曲线）和测试结果（分类精度）。\n",
    "\n",
    "### 评分细则\n",
    "- 模型构建：10分\n",
    "- 模型训练：10分 - 要求Loss曲线收敛\n",
    "- 模型测试：10分 - 要求分类精度达到95%以上"
   ]
  },
  {
   "cell_type": "code",
   "execution_count": 5,
   "metadata": {},
   "outputs": [
    {
     "name": "stderr",
     "output_type": "stream",
     "text": [
      "1875it [00:23, 81.43it/s]\n"
     ]
    },
    {
     "name": "stdout",
     "output_type": "stream",
     "text": [
      "Epoch 1, Loss: 0.01510065646081542\n"
     ]
    },
    {
     "name": "stderr",
     "output_type": "stream",
     "text": [
      "1875it [00:23, 79.30it/s]\n"
     ]
    },
    {
     "name": "stdout",
     "output_type": "stream",
     "text": [
      "Epoch 2, Loss: 0.004629209495537604\n"
     ]
    },
    {
     "name": "stderr",
     "output_type": "stream",
     "text": [
      "1875it [00:26, 72.02it/s]\n"
     ]
    },
    {
     "name": "stdout",
     "output_type": "stream",
     "text": [
      "Epoch 3, Loss: 0.00300748361775962\n"
     ]
    },
    {
     "name": "stderr",
     "output_type": "stream",
     "text": [
      "1875it [00:29, 63.14it/s]\n"
     ]
    },
    {
     "name": "stdout",
     "output_type": "stream",
     "text": [
      "Epoch 4, Loss: 0.0023171116039777794\n"
     ]
    },
    {
     "name": "stderr",
     "output_type": "stream",
     "text": [
      "1875it [00:29, 62.53it/s]\n"
     ]
    },
    {
     "name": "stdout",
     "output_type": "stream",
     "text": [
      "Epoch 5, Loss: 0.0019390223631460684\n"
     ]
    },
    {
     "name": "stderr",
     "output_type": "stream",
     "text": [
      "1875it [00:28, 66.61it/s]\n"
     ]
    },
    {
     "name": "stdout",
     "output_type": "stream",
     "text": [
      "Epoch 6, Loss: 0.0016707313428380682\n"
     ]
    },
    {
     "name": "stderr",
     "output_type": "stream",
     "text": [
      "1875it [00:28, 66.94it/s]\n"
     ]
    },
    {
     "name": "stdout",
     "output_type": "stream",
     "text": [
      "Epoch 7, Loss: 0.0015263928630719116\n"
     ]
    },
    {
     "name": "stderr",
     "output_type": "stream",
     "text": [
      "1875it [00:28, 66.13it/s]\n"
     ]
    },
    {
     "name": "stdout",
     "output_type": "stream",
     "text": [
      "Epoch 8, Loss: 0.0013792354531911163\n"
     ]
    },
    {
     "name": "stderr",
     "output_type": "stream",
     "text": [
      "1875it [00:29, 64.45it/s]\n"
     ]
    },
    {
     "name": "stdout",
     "output_type": "stream",
     "text": [
      "Epoch 9, Loss: 0.0012768737766464863\n"
     ]
    },
    {
     "name": "stderr",
     "output_type": "stream",
     "text": [
      "1875it [00:26, 69.51it/s]\n"
     ]
    },
    {
     "name": "stdout",
     "output_type": "stream",
     "text": [
      "Epoch 10, Loss: 0.0011644146655729855\n",
      "Training time cnn: 273.00378918647766\n"
     ]
    },
    {
     "name": "stderr",
     "output_type": "stream",
     "text": [
      "313it [00:02, 137.55it/s]"
     ]
    },
    {
     "name": "stdout",
     "output_type": "stream",
     "text": [
      "Test accuracy: 98.62%\n"
     ]
    },
    {
     "name": "stderr",
     "output_type": "stream",
     "text": [
      "\n"
     ]
    }
   ],
   "source": [
    "# Code here\n",
    "from data import LoadData\n",
    "from CNN import CNN\n",
    "import torch.nn as nn\n",
    "import torch\n",
    "from tqdm import tqdm\n",
    "from torch.utils.data import DataLoader\n",
    "import matplotlib.pyplot as plt\n",
    "\n",
    "train_data = LoadData(train=True)\n",
    "test_data = LoadData(train=False)\n",
    "\n",
    "train_loader = DataLoader(train_data, batch_size=32, shuffle=True)\n",
    "test_loader = DataLoader(test_data, batch_size=32, shuffle=False)\n",
    "\n",
    "model = CNN()\n",
    "\n",
    "# n_epochs = 5\n",
    "criterion = nn.CrossEntropyLoss()\n",
    "optimizer = torch.optim.Adam(model.parameters(), lr=1e-4, weight_decay=1e-5)\n",
    "\n",
    "best_loss = 1e5\n",
    "losses = []\n",
    "\n",
    "start_time = time()\n",
    "for epoch in range(n_epochs):\n",
    "    model.train()\n",
    "    train_loss = 0.0\n",
    "    for i, (images, labels) in tqdm(enumerate(train_loader)):\n",
    "        optimizer.zero_grad()  # Assuming 'optimizer' is defined\n",
    "        predictions = model(images)\n",
    "        loss = criterion(predictions, labels)  # Assuming 'loss_function' is defined\n",
    "        loss.backward()\n",
    "        optimizer.step()\n",
    "        train_loss += loss.item()\n",
    "\n",
    "    average_train_loss = train_loss / len(train_data)\n",
    "    losses.append(average_train_loss)\n",
    "    print(f\"Epoch {epoch+1}, Loss: {average_train_loss}\")\n",
    "\n",
    "    if train_loss < best_loss:\n",
    "        best_loss = train_loss\n",
    "        torch.save(model.state_dict(), 'best_model_cnn.pth')\n",
    "end_time = time()\n",
    "print(f\"Training time cnn: {end_time - start_time}\")\n",
    "\n",
    "model.load_state_dict(torch.load('best_model_cnn.pth'))\n",
    "model.eval()\n",
    "test_failures = 0\n",
    "for i, (images, labels) in tqdm(enumerate(test_loader)):\n",
    "    predictions = model(images)\n",
    "    test_failures += sum(predictions.argmax(1) != labels).item()\n",
    "\n",
    "test_accuracy = 1 - test_failures / len(test_data)\n",
    "print(f\"Test accuracy: {100*test_accuracy:.2f}%\") \n",
    "# epoch     accuracy  \n",
    "# 10         98.62%"
   ]
  },
  {
   "cell_type": "code",
   "execution_count": 6,
   "metadata": {},
   "outputs": [
    {
     "data": {
      "image/png": "[encoded data removed]",
      "text/plain": [
       "<Figure size 640x480 with 1 Axes>"
      ]
     },
     "metadata": {},
     "output_type": "display_data"
    }
   ],
   "source": [
    "plt.plot(range(1, n_epochs + 1), losses)\n",
    "plt.title('CNN Loss Per Epoch')\n",
    "plt.xlabel('Epoch')\n",
    "plt.ylabel('Loss')\n",
    "plt.show()"
   ]
  },
  {
   "cell_type": "code",
   "execution_count": 7,
   "metadata": {},
   "outputs": [
    {
     "name": "stdout",
     "output_type": "stream",
     "text": [
      "mlp_prediction: 9 cnn_prediction: 1 label: 1\n",
      "mlp_prediction: 9 cnn_prediction: 4 label: 4\n",
      "mlp_prediction: 5 cnn_prediction: 5 label: 5\n",
      "mlp_prediction: 7 cnn_prediction: 7 label: 7\n",
      "mlp_prediction: 9 cnn_prediction: 9 label: 9\n",
      "Accuracy mlp: 60.00%\n",
      "Accuracy cnn: 100.00%\n"
     ]
    }
   ],
   "source": [
    "# unseen data\n",
    "import os\n",
    "mlp_model = MLP()\n",
    "cnn_model = CNN()\n",
    "mlp_model.load_state_dict(torch.load('best_model_mlp.pth'))\n",
    "cnn_model.load_state_dict(torch.load('best_model_cnn.pth'))\n",
    "\n",
    "file_path = 'unseen'\n",
    "for dir, _, files in os.walk(file_path):\n",
    "    img_names = files\n",
    "    break\n",
    "labels = [int(name[7]) for name in img_names]\n",
    "# print('img_names:', img_names, 'labels:', labels)\n",
    "img_paths = [os.path.join(file_path, name) for name in img_names]\n",
    "\n",
    "pred_exact_mpl = 0\n",
    "pred_exact_cnn = 0\n",
    "for (path, label) in zip(img_paths, labels):\n",
    "    input = torch.tensor(plt.imread(path)) / 255.0\n",
    "    mlp_prediction = mlp_model(input)\n",
    "    cnn_prediction = cnn_model(input.unsqueeze(0))\n",
    "\n",
    "    print('mlp_prediction:', mlp_prediction.argmax().item(), 'cnn_prediction:', cnn_prediction.argmax().item(), 'label:', label)\n",
    "    if mlp_prediction.argmax().item() == label:\n",
    "        pred_exact_mpl += 1\n",
    "    if cnn_prediction.argmax().item() == label:\n",
    "        pred_exact_cnn += 1\n",
    "\n",
    "print(f\"Accuracy mlp: {100*pred_exact_mpl/len(labels):.2f}%\")\n",
    "print(f\"Accuracy cnn: {100*pred_exact_cnn/len(labels):.2f}%\")\n"
   ]
  },
  {
   "cell_type": "markdown",
   "metadata": {},
   "source": [
    "\n",
    "---\n",
    "## 第四部分：结果讨论与对比分析\n",
    "\n",
    "- 请你对`MLP`和`CNN`两种模型的训练和测试结果进行对比分析。\n",
    "- 你可以从模型的训练速度、模型的性能、模型的泛化能力等方面进行分析。\n",
    "    - 训练速度：模型训练所需的时间\n",
    "    - 模型性能：模型在测试集上的分类精度\n",
    "    - 模型泛化能力：模型在未知数据上的表现，未知数据可以从Canvas上下载，在文件夹`unseen`中有5张手写数字图片。\n",
    "- 请在下面的markdown cell中写下你的分析结果。\n",
    "\n",
    "### 评分细则\n",
    "- 结果讨论与对比分析：\n",
    "    - 训练速度：4分\n",
    "    - 模型性能：4分\n",
    "    - 模型泛化能力：5分\n",
    "    - 其他：2分"
   ]
  },
  {
   "cell_type": "markdown",
   "metadata": {},
   "source": [
    "### 训练速度\n",
    "---\n",
    "从训练时间对比，可以明显观察到，在相同的epoch (10)下，CNN需要明显更长的时间进行训练。\n",
    "| MLP | CNN |\n",
    "|:---:|:---:|\n",
    "| 62.10 s | 273.00 s|\n",
    "\n",
    "分析：\n",
    "- MLP一共包含218058个参数：\n",
    "    - fc1: 784*256+256=200960\n",
    "    - fc2: 256*64+64=16448\n",
    "    - fc3: 64*10+10=650\n",
    "    \n",
    "- CNN一共包含50186个参数：\n",
    "    - conv1: 1*32*3*3+32=320\n",
    "    - conv2: 32*64*3*3+64=18496\n",
    "    - fc: (64*7*7)*10+10=31370\n",
    "\n",
    "尽管CNN的参数总数比MLP少，但是卷积操作本身更加复杂，每个卷积核都需要在输入数据的不同区域进行多次运算，这使得CNN消耗的计算量较大，计算时间更长。\n",
    "\n",
    "\n",
    "### 模型性能\n",
    "---\n",
    "\n",
    "模型收敛后，在测试集上的性能虽然CNN效果更好，但是差距不大，只有0.46%的差距。\n",
    "| MLP | CNN |\n",
    "|:---:|:---:|\n",
    "| 98.16% | 98.62% |\n",
    "\n",
    "分析：这是因为mnist数据集本身比较简单，图片分别率较低且具有明显容易区分的特征，MLP已经足够识别出这些特征并实现较高的分类准确度。并且MLP的参数量更大，理论上具有较高的网络容量，容易学习到训练数据中的细节，从而可能在简单的数据集上表现良好。\n",
    "\n",
    "### 泛化能力\n",
    "---\n",
    "\n",
    "可以观察到， CNN的泛化能力明显优于MLP，在unseen数据集上做到了百分百正确分类。\n",
    "| MLP | CNN |\n",
    "|:---:|:---:|\n",
    "| 60% | 100% |\n",
    "\n",
    "分析：因为CNN通过卷积层学习数据的层次特征，而非仅仅依赖输入的**原始像素**，从而能够捕捉图像的**空间层次结构**。也就是说，CNN能够有效的识别图片中的相似模式，实现对位置、缩放和其他几何变换的不变性。同时，mnist数据集中的图片具有高度的相似性，相同label的图片大多只是在位置，大小，微小的结构上有些变化。所以，这也解释了在一些新的数据上，CNN能够实现比MLP更好的结果。\n",
    "\n",
    "### 其他\n",
    "---\n",
    "\n",
    "- 模型结构\n",
    "\n",
    "    在构建MLP网络结构时，我对是否加入dropout层进行了考虑。\n",
    "    首先，dropout的定义：\n",
    "    >在训练神经网络的过程中，随机地将一部分神经元的输出值置为0，从而使得神经网络的结构变得不稳定，从而强制网络学习到更加鲁棒的特征表示。\n",
    "\n",
    "    加入dropout层后，网络对unseen数据集的表现有稳定的提升，如下表所示：\n",
    "\n",
    "    | with dropout | without dropout |\n",
    "    |:---:|:---:|\n",
    "    | 40% | 60% |\n",
    "\n",
    "    另外，加入dropout层可以使得在一定epoch和一定概率下（因为dropout具有随机性），MLP在unseen数据集上达到80%的效果。\n",
    "\n",
    "    这可能是因为dropout层的加入让神经网络学习到更加鲁棒的特征表示，从而提高模型的泛化能力，所以我选择将dropout层加入MLP网络中。\n",
    "\n",
    "- learning rate（lr）的调整\n",
    "\n",
    "    为了加快网络的收敛速度，并且为了使模型更好地收敛，我对lr进行了分析与挑选\n",
    "\n",
    "    该表格展示了在三个不同lr下，在test上的分类效果达到95%需要的epoch数：\n",
    "\n",
    "    | lr | 1e-3 | 3.33e-4 | 1e-4 |\n",
    "    |:---:|:---:|:---:|:---:|\n",
    "    | epoch | 4 | 2 | 1 |\n",
    "\n",
    "    可见，1e-3具有最好的效果。\n",
    "\n",
    "    该表格展示了在三个不同lr下，10个epoch后，在unseen数据集上的表现：\n",
    "\n",
    "    | lr | 1e-3 | 3.33e-4 | 1e-4 |\n",
    "    |:---:|:---:|:---:|:---:|\n",
    "    | 泛化能力 | 60% | 40% | 20% |\n",
    "\n",
    "    同样的，1e-3具有最好的效果，所以我选择lr=1e-3作为本实验MLP的设定。同理，我们选择lr=1e-4作为本实验cNN超参数的设定。"
   ]
  }
 ],
 "metadata": {
  "kernelspec": {
   "display_name": "py39",
   "language": "python",
   "name": "python3"
  },
  "language_info": {
   "codemirror_mode": {
    "name": "ipython",
    "version": 3
   },
   "file_extension": ".py",
   "mimetype": "text/x-python",
   "name": "python",
   "nbconvert_exporter": "python",
   "pygments_lexer": "ipython3",
   "version": "3.9.18"
  }
 },
 "nbformat": 4,
 "nbformat_minor": 2
}
